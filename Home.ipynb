{
 "cells": [
  {
   "cell_type": "markdown",
   "metadata": {},
   "source": [
    "*** Boas Vindas ao PyProject ***"
   ]
  },
  {
   "cell_type": "code",
   "execution_count": 3,
   "metadata": {},
   "outputs": [],
   "source": [
    "project_name = \"PyProject\" # Aqui eu irei deixar definido o nome do projeto !\n",
    "\n",
    "import time # Importando o time no projeto.\n",
    "\n",
    "# Tela de boas vindas !\n",
    "def boas_vindas(user):\n",
    "    print(f\"*********************************\")\n",
    "    print(f\"Seja muito bem vindo ao \\033[32m{project_name}\\033[0;0m !\")     \n",
    "    print(f\"*********************************\")\n",
    "    print(f\"Você deve ser o \\033[35m{user}\\033[0;0m.\")\n",
    "    print(f\"*********************************\")\n",
    "    print(f\"Para prosseguir tecle \\033[34m0\\033[0;0m\")\n",
    "    print(f\"*********************************\")\n",
    "    time.sleep(1) # Aguardar 1 segundo para a pergunta.\n",
    "    confirmacao = int(input(\"0 - Para continuar | Outro número encerra o programa\"))\n",
    "    return boas_vindas_confirmacao(confirmacao)\n",
    "\n",
    "# Registrando o usuário e chamando a tela de boas vindas.\n",
    "def registrar_usuario():\n",
    "    user = str(input(\"Qual o seu nome? \"))\n",
    "    boas_vindas(user)\n",
    "\n",
    "# Irá verificar a confirmação.\n",
    "def boas_vindas_confirmacao(x):\n",
    "    if(x == 0):\n",
    "        print(\"Continuando o programa\")\n",
    "    else:\n",
    "        print(\"Programa encerrado.\")\n",
    "    \n",
    "# registrar_usuario()"
   ]
  }
 ],
 "metadata": {
  "kernelspec": {
   "display_name": "Python 3",
   "language": "python",
   "name": "python3"
  },
  "language_info": {
   "codemirror_mode": {
    "name": "ipython",
    "version": 3
   },
   "file_extension": ".py",
   "mimetype": "text/x-python",
   "name": "python",
   "nbconvert_exporter": "python",
   "pygments_lexer": "ipython3",
   "version": "3.12.6"
  }
 },
 "nbformat": 4,
 "nbformat_minor": 2
}
